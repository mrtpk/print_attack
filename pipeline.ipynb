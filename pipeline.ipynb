{
 "cells": [
  {
   "cell_type": "code",
   "execution_count": 1,
   "metadata": {},
   "outputs": [],
   "source": [
    "import numpy as np\n",
    "import cv2\n",
    "import tensorflow as tf\n",
    "from glob import glob"
   ]
  },
  {
   "cell_type": "code",
   "execution_count": 2,
   "metadata": {},
   "outputs": [],
   "source": [
    "from embedding import FaceEmbedder\n",
    "from data_process import pickle_read\n",
    "from data_generator import load_all\n",
    "from classifier_models import get_classifier"
   ]
  },
  {
   "cell_type": "code",
   "execution_count": null,
   "metadata": {},
   "outputs": [],
   "source": [
    "    train_set = pickle_read(\"./data/processed/train.pkl\")\n",
    "    valid_set = pickle_read(\"./data/processed/valid.pkl\")\n",
    "    test_set = pickle_read(\"./data/processed/test.pkl\")\n",
    "    # data generator usage\n",
    "    gen_train = DataGenerator(dataset=train_set, batch_size=128, shuffle=True)\n",
    "    gen_valid = DataGenerator(dataset=valid_set, batch_size=128, shuffle=True)\n",
    "    gen_test = DataGenerator(dataset=test_set, batch_size=128)\n",
    "    # data generator alternate\n",
    "    x_train, y_train = load_all(train_set)\n",
    "    x_valid, y_valid = load_all(valid_set)\n",
    "    x_test, y_test = load_all(test_set)"
   ]
  },
  {
   "cell_type": "code",
   "execution_count": null,
   "metadata": {},
   "outputs": [],
   "source": []
  },
  {
   "cell_type": "code",
   "execution_count": null,
   "metadata": {},
   "outputs": [],
   "source": []
  }
 ],
 "metadata": {
  "kernelspec": {
   "display_name": "Python 3",
   "language": "python",
   "name": "python3"
  },
  "language_info": {
   "codemirror_mode": {
    "name": "ipython",
    "version": 3
   },
   "file_extension": ".py",
   "mimetype": "text/x-python",
   "name": "python",
   "nbconvert_exporter": "python",
   "pygments_lexer": "ipython3",
   "version": "3.6.9"
  },
  "widgets": {
   "state": {},
   "version": "1.1.2"
  }
 },
 "nbformat": 4,
 "nbformat_minor": 2
}
